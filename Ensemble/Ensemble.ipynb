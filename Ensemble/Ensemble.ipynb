{
 "cells": [
  {
   "cell_type": "code",
   "execution_count": 1,
   "metadata": {},
   "outputs": [],
   "source": [
    "import numpy as np\n",
    "import pandas as pd\n",
    "import seaborn as sns\n",
    "import matplotlib.pyplot as plt\n",
    "import cv2 as cv\n",
    "import math\n",
    "\n",
    "import tensorflow as tf\n",
    "\n",
    "from tensorflow.keras.preprocessing.image import ImageDataGenerator\n",
    "from tensorflow.keras.applications import EfficientNetB4\n",
    "from tensorflow.keras.applications.efficientnet import preprocess_input\n",
    "from tensorflow.keras.regularizers import l2\n",
    "from tensorflow.keras.layers import Dense, GlobalAveragePooling2D, Dropout\n",
    "from tensorflow.keras.models import Model\n",
    "from tensorflow.keras import backend as K"
   ]
  },
  {
   "cell_type": "code",
   "execution_count": 2,
   "metadata": {},
   "outputs": [
    {
     "data": {
      "text/html": [
       "<div>\n",
       "<style scoped>\n",
       "    .dataframe tbody tr th:only-of-type {\n",
       "        vertical-align: middle;\n",
       "    }\n",
       "\n",
       "    .dataframe tbody tr th {\n",
       "        vertical-align: top;\n",
       "    }\n",
       "\n",
       "    .dataframe thead th {\n",
       "        text-align: right;\n",
       "    }\n",
       "</style>\n",
       "<table border=\"1\" class=\"dataframe\">\n",
       "  <thead>\n",
       "    <tr style=\"text-align: right;\">\n",
       "      <th></th>\n",
       "      <th>ID</th>\n",
       "      <th>Epidural</th>\n",
       "      <th>Intraparenchymal</th>\n",
       "      <th>Intraventricular</th>\n",
       "      <th>Subarachnoid</th>\n",
       "      <th>Subdural</th>\n",
       "    </tr>\n",
       "  </thead>\n",
       "  <tbody>\n",
       "    <tr>\n",
       "      <th>0</th>\n",
       "      <td>ID_d2a94c3b7.png</td>\n",
       "      <td>0</td>\n",
       "      <td>0</td>\n",
       "      <td>0</td>\n",
       "      <td>0</td>\n",
       "      <td>1</td>\n",
       "    </tr>\n",
       "    <tr>\n",
       "      <th>1</th>\n",
       "      <td>ID_d2a98c0f1.png</td>\n",
       "      <td>0</td>\n",
       "      <td>0</td>\n",
       "      <td>1</td>\n",
       "      <td>1</td>\n",
       "      <td>0</td>\n",
       "    </tr>\n",
       "    <tr>\n",
       "      <th>2</th>\n",
       "      <td>ID_d2a9d6921.png</td>\n",
       "      <td>0</td>\n",
       "      <td>1</td>\n",
       "      <td>0</td>\n",
       "      <td>1</td>\n",
       "      <td>0</td>\n",
       "    </tr>\n",
       "    <tr>\n",
       "      <th>3</th>\n",
       "      <td>ID_d2a9f7ff7.png</td>\n",
       "      <td>0</td>\n",
       "      <td>0</td>\n",
       "      <td>0</td>\n",
       "      <td>0</td>\n",
       "      <td>1</td>\n",
       "    </tr>\n",
       "    <tr>\n",
       "      <th>4</th>\n",
       "      <td>ID_d2aa11e41.png</td>\n",
       "      <td>0</td>\n",
       "      <td>0</td>\n",
       "      <td>0</td>\n",
       "      <td>1</td>\n",
       "      <td>1</td>\n",
       "    </tr>\n",
       "  </tbody>\n",
       "</table>\n",
       "</div>"
      ],
      "text/plain": [
       "                 ID  Epidural  Intraparenchymal  Intraventricular  \\\n",
       "0  ID_d2a94c3b7.png         0                 0                 0   \n",
       "1  ID_d2a98c0f1.png         0                 0                 1   \n",
       "2  ID_d2a9d6921.png         0                 1                 0   \n",
       "3  ID_d2a9f7ff7.png         0                 0                 0   \n",
       "4  ID_d2aa11e41.png         0                 0                 0   \n",
       "\n",
       "   Subarachnoid  Subdural  \n",
       "0             0         1  \n",
       "1             1         0  \n",
       "2             1         0  \n",
       "3             0         1  \n",
       "4             1         1  "
      ]
     },
     "execution_count": 2,
     "metadata": {},
     "output_type": "execute_result"
    }
   ],
   "source": [
    "df_train = pd.read_csv('train.csv')\n",
    "df_val = pd.read_csv('val.csv')\n",
    "df_test = pd.read_csv('test.csv')\n",
    "df_test.head()"
   ]
  },
  {
   "cell_type": "code",
   "execution_count": 3,
   "metadata": {},
   "outputs": [],
   "source": [
    "labels = ['Epidural','Intraparenchymal','Intraventricular','Subarachnoid','Subdural']"
   ]
  },
  {
   "cell_type": "code",
   "execution_count": 4,
   "metadata": {},
   "outputs": [
    {
     "name": "stdout",
     "output_type": "stream",
     "text": [
      "getting train generator...\n",
      "Found 74790 validated image filenames.\n",
      "getting train and valid generators...\n",
      "Found 74790 validated image filenames.\n",
      "Found 10000 validated image filenames.\n",
      "Found 17101 validated image filenames.\n"
     ]
    }
   ],
   "source": [
    "def get_train_generator(df, image_dir, x_col, y_cols, shuffle=True, batch_size=16, seed=1):\n",
    "    \"\"\"\n",
    "    Return generator for training set, normalizing using batch\n",
    "    statistics.\n",
    "\n",
    "    Args:\n",
    "      train_df (dataframe): dataframe specifying training data.\n",
    "      image_dir (str): directory where image files are held.\n",
    "      x_col (str): name of column in df that holds filenames.\n",
    "      y_cols (list): list of strings that hold y labels for images.\n",
    "      batch_size (int): images per batch to be fed into model during training.\n",
    "      seed (int): random seed.\n",
    "      target_w (int): final width of input images.\n",
    "      target_h (int): final height of input images.\n",
    "    \n",
    "    Returns:\n",
    "        train_generator (DataFrameIterator): iterator over training set\n",
    "    \"\"\"        \n",
    "    print(\"getting train generator...\") \n",
    "    # normalize images\n",
    "    image_generator = ImageDataGenerator(preprocessing_function=preprocess_input,\n",
    "                                        horizontal_flip=True,\n",
    "                                        vertical_flip=True,\n",
    "                                        rotation_range = 90,\n",
    "                                        shear_range=0.2,\n",
    "                                        zoom_range=0.1,\n",
    "                                        width_shift_range=0.1,\n",
    "                                        height_shift_range=0.1,\n",
    "                                        fill_mode='nearest', cval=0.0)\n",
    "    \n",
    "    # flow from directory with specified batch size\n",
    "    # and target image size\n",
    "    generator = image_generator.flow_from_dataframe(\n",
    "            dataframe=df,\n",
    "            directory=image_dir,\n",
    "            x_col=x_col,\n",
    "            y_col=y_cols,\n",
    "            class_mode=\"raw\",\n",
    "            batch_size=batch_size,\n",
    "            shuffle=shuffle,\n",
    "            seed=seed)\n",
    "    \n",
    "    return generator\n",
    "\n",
    "def get_test_and_valid_generator(valid_df, test_df, train_df, image_dir, x_col, y_cols, \n",
    "                                 sample_size=500, batch_size=16, seed=1):\n",
    "    \"\"\"\n",
    "    Return generator for validation set and test test set using \n",
    "    normalization statistics from training set.\n",
    "\n",
    "    Args:\n",
    "      valid_df (dataframe): dataframe specifying validation data.\n",
    "      test_df (dataframe): dataframe specifying test data.\n",
    "      train_df (dataframe): dataframe specifying training data.\n",
    "      image_dir (str): directory where image files are held.\n",
    "      x_col (str): name of column in df that holds filenames.\n",
    "      y_cols (list): list of strings that hold y labels for images.\n",
    "      sample_size (int): size of sample to use for normalization statistics.\n",
    "      batch_size (int): images per batch to be fed into model during training.\n",
    "      seed (int): random seed.\n",
    "      target_w (int): final width of input images.\n",
    "      target_h (int): final height of input images.\n",
    "    \n",
    "    Returns:\n",
    "        test_generator (DataFrameIterator) and valid_generator: iterators over test set and validation set respectively\n",
    "    \"\"\"\n",
    "    print(\"getting train and valid generators...\")\n",
    "    # get generator to sample dataset\n",
    "    raw_train_generator = ImageDataGenerator().flow_from_dataframe(\n",
    "        dataframe=train_df, \n",
    "        directory=IMAGE_DIR, \n",
    "        x_col=\"ID\", \n",
    "        y_col=labels, \n",
    "        class_mode=\"raw\", \n",
    "        batch_size=sample_size, \n",
    "        shuffle=True)\n",
    "    \n",
    "    # get data sample\n",
    "    batch = raw_train_generator.next()\n",
    "    data_sample = batch[0]\n",
    "\n",
    "    # use sample to fit mean and std for test set generator\n",
    "    image_generator = ImageDataGenerator(preprocessing_function=preprocess_input)\n",
    "    \n",
    "    # fit generator to sample from training data\n",
    "    image_generator.fit(data_sample)\n",
    "\n",
    "    # get test generator\n",
    "    valid_generator = image_generator.flow_from_dataframe(\n",
    "            dataframe=valid_df,\n",
    "            directory=image_dir,\n",
    "            x_col=x_col,\n",
    "            y_col=y_cols,\n",
    "            class_mode=\"raw\",\n",
    "            batch_size=batch_size,\n",
    "            shuffle=False,\n",
    "            seed=seed)\n",
    "\n",
    "    test_generator = image_generator.flow_from_dataframe(\n",
    "            dataframe=test_df,\n",
    "            directory=image_dir,\n",
    "            x_col=x_col,\n",
    "            y_col=y_cols,\n",
    "            class_mode=\"raw\",\n",
    "            batch_size=batch_size,\n",
    "            shuffle=False,\n",
    "            seed=seed)\n",
    "    \n",
    "    return valid_generator, test_generator\n",
    "\n",
    "IMAGE_DIR = \"C:/Users/asarkar.NATICK-NT/ICH_dataset/ICH_png\"\n",
    "train_generator = get_train_generator(df_train, IMAGE_DIR, \"ID\", labels)\n",
    "valid_generator, test_generator= get_test_and_valid_generator(df_val, df_test, df_train, IMAGE_DIR, \"ID\", labels)"
   ]
  },
  {
   "cell_type": "code",
   "execution_count": 5,
   "metadata": {},
   "outputs": [],
   "source": [
    "def compute_class_freqs(labels):\n",
    "    \"\"\"\n",
    "    Compute positive and negative frequences for each class.\n",
    "\n",
    "    Args:\n",
    "        labels (np.array): matrix of labels, size (num_examples, num_classes)\n",
    "    Returns:\n",
    "        positive_frequencies (np.array): array of positive frequences for each\n",
    "                                         class, size (num_classes)\n",
    "        negative_frequencies (np.array): array of negative frequences for each\n",
    "                                         class, size (num_classes)\n",
    "    \"\"\"\n",
    "    \n",
    "    # total number of patients (rows)\n",
    "    N = labels.shape[0]\n",
    "    \n",
    "    positive_frequencies = np.sum(labels==True,axis=0)/N\n",
    "    negative_frequencies = np.sum(labels==False, axis=0)/N\n",
    "\n",
    "    return positive_frequencies, negative_frequencies\n",
    "\n",
    "freq_pos, freq_neg = compute_class_freqs(train_generator.labels)\n",
    "\n",
    "pos_weights = freq_neg\n",
    "neg_weights = freq_pos\n",
    "pos_contribution = freq_pos * pos_weights \n",
    "neg_contribution = freq_neg * neg_weights\n",
    "\n",
    "def get_weighted_loss(pos_weights, neg_weights, epsilon=1e-7):\n",
    "    \"\"\"\n",
    "    Return weighted loss function given negative weights and positive weights.\n",
    "\n",
    "    Args:\n",
    "      pos_weights (np.array): array of positive weights for each class, size (num_classes)\n",
    "      neg_weights (np.array): array of negative weights for each class, size (num_classes)\n",
    "    \n",
    "    Returns:\n",
    "      weighted_loss (function): weighted loss function\n",
    "    \"\"\"\n",
    "    def weighted_loss(y_true, y_pred):\n",
    "        \"\"\"\n",
    "        Return weighted loss value. \n",
    "\n",
    "        Args:\n",
    "            y_true (Tensor): Tensor of true labels, size is (num_examples, num_classes)\n",
    "            y_pred (Tensor): Tensor of predicted labels, size is (num_examples, num_classes)\n",
    "        Returns:\n",
    "            loss (Float): overall scalar loss summed across all classes\n",
    "        \"\"\"\n",
    "        # initialize loss to zero\n",
    "        loss = 0.0\n",
    "\n",
    "        for i in range(len(pos_weights)):\n",
    "            \n",
    "            y_true = tf.cast(y_true, tf.float32)\n",
    "            y_pred = tf.cast(y_pred, tf.float32)\n",
    "            \n",
    "\n",
    "            # for each class, add average weighted loss for that class \n",
    "            loss += K.mean(-(pos_weights[i] *y_true[:,i] * K.log(y_pred[:,i] + epsilon) \n",
    "                     + neg_weights[i]* (1 - y_true[:,i]) * K.log( 1 - y_pred[:,i] + epsilon)))   \n",
    "            \n",
    "        return loss\n",
    "    \n",
    "    return weighted_loss"
   ]
  },
  {
   "cell_type": "code",
   "execution_count": 6,
   "metadata": {},
   "outputs": [],
   "source": [
    "model_1 = tf.keras.models.load_model('EfficientNetB4_imagenet_sgd.h5', compile = False)\n",
    "model_1.compile(optimizer='sgd', loss=get_weighted_loss(pos_weights, neg_weights), metrics = ['accuracy'])\n",
    "\n",
    "model_2 = tf.keras.models.load_model('EfficientNetB4_noisy_sgd.h5', compile = False)\n",
    "model_2.compile(optimizer='sgd', loss=get_weighted_loss(pos_weights, neg_weights), metrics = ['accuracy'])\n",
    "\n",
    "model_3 = tf.keras.models.load_model('EfficientNetB4_imagenet_adam.h5', compile = False)\n",
    "model_3.compile(optimizer='adam', loss=get_weighted_loss(pos_weights, neg_weights), metrics = ['accuracy'])\n",
    "\n",
    "model_4= tf.keras.models.load_model('EfficientNetB4_noisy_adam.h5', compile = False)\n",
    "model_4.compile(optimizer='adam', loss=get_weighted_loss(pos_weights, neg_weights), metrics = ['accuracy'])"
   ]
  },
  {
   "cell_type": "code",
   "execution_count": 7,
   "metadata": {},
   "outputs": [],
   "source": [
    "P1 = model_1.predict(test_generator, steps = len(test_generator))\n",
    "P2 = model_2.predict(test_generator, steps = len(test_generator))\n",
    "P3 = model_3.predict(test_generator, steps = len(test_generator))\n",
    "P4 = model_4.predict(test_generator, steps = len(test_generator))"
   ]
  },
  {
   "cell_type": "code",
   "execution_count": 8,
   "metadata": {},
   "outputs": [
    {
     "data": {
      "text/plain": [
       "array([[5.0843502e-03, 9.3965260e-05, 4.5387380e-05, 1.1160626e-03,\n",
       "        9.9992269e-01],\n",
       "       [7.3475237e-03, 3.9971910e-02, 9.7079098e-01, 8.5149831e-01,\n",
       "        1.9753067e-01],\n",
       "       [7.6330379e-02, 9.9500066e-01, 2.5628679e-02, 1.8933630e-01,\n",
       "        9.4683945e-01],\n",
       "       ...,\n",
       "       [1.1286439e-03, 8.5642052e-01, 9.9301499e-01, 7.7719921e-03,\n",
       "        8.4860873e-04],\n",
       "       [1.0945840e-02, 5.1649651e-03, 2.5616568e-03, 9.9810302e-01,\n",
       "        3.6492315e-01],\n",
       "       [1.1346705e-03, 3.3737391e-02, 9.9594319e-01, 1.0192080e-01,\n",
       "        3.7487857e-03]], dtype=float32)"
      ]
     },
     "execution_count": 8,
     "metadata": {},
     "output_type": "execute_result"
    }
   ],
   "source": [
    "weighted_pred = (0.45*P1+0.45*P2+0.05*P3+0.05*P4)\n",
    "weighted_pred"
   ]
  },
  {
   "cell_type": "code",
   "execution_count": 9,
   "metadata": {},
   "outputs": [
    {
     "data": {
      "text/plain": [
       "array([[0, 0, 0, 0, 1],\n",
       "       [0, 0, 1, 1, 0],\n",
       "       [0, 1, 0, 0, 1],\n",
       "       ...,\n",
       "       [0, 1, 1, 0, 0],\n",
       "       [0, 0, 0, 1, 0],\n",
       "       [0, 0, 1, 0, 0]])"
      ]
     },
     "execution_count": 9,
     "metadata": {},
     "output_type": "execute_result"
    }
   ],
   "source": [
    "weighted_pred = np.around(weighted_pred)\n",
    "final_pred = weighted_pred.astype(int)\n",
    "final_pred"
   ]
  },
  {
   "cell_type": "code",
   "execution_count": 12,
   "metadata": {
    "scrolled": false
   },
   "outputs": [
    {
     "name": "stdout",
     "output_type": "stream",
     "text": [
      "Confusion matrix for label Epidural:\n"
     ]
    },
    {
     "data": {
      "image/png": "[encoded data removed]",
      "text/plain": [
       "<Figure size 216x216 with 1 Axes>"
      ]
     },
     "metadata": {
      "needs_background": "light"
     },
     "output_type": "display_data"
    },
    {
     "name": "stdout",
     "output_type": "stream",
     "text": [
      "Metrics for label : Epidural\n",
      "\n",
      "Sensitivity-Recall : 0.8654618473895582\n",
      "Precision - PPV : 0.6027972027972028\n",
      "Accuracy : 0.9794748845096778\n",
      "F-score : 0.7106347897774113\n",
      "\n",
      "Confusion matrix for label Intraparenchymal:\n"
     ]
    },
    {
     "data": {
      "image/png": "[encoded data removed]",
      "text/plain": [
       "<Figure size 216x216 with 1 Axes>"
      ]
     },
     "metadata": {
      "needs_background": "light"
     },
     "output_type": "display_data"
    },
    {
     "name": "stdout",
     "output_type": "stream",
     "text": [
      "Metrics for label : Intraparenchymal\n",
      "\n",
      "Sensitivity-Recall : 0.9063786008230452\n",
      "Precision - PPV : 0.8711272247857613\n",
      "Accuracy : 0.9223437225893223\n",
      "F-score : 0.8884033613445378\n",
      "\n",
      "Confusion matrix for label Intraventricular:\n"
     ]
    },
    {
     "data": {
      "image/png": "[encoded data removed]",
      "text/plain": [
       "<Figure size 216x216 with 1 Axes>"
      ]
     },
     "metadata": {
      "needs_background": "light"
     },
     "output_type": "display_data"
    },
    {
     "name": "stdout",
     "output_type": "stream",
     "text": [
      "Metrics for label : Intraventricular\n",
      "\n",
      "Sensitivity-Recall : 0.9320943531093638\n",
      "Precision - PPV : 0.8571428571428571\n",
      "Accuracy : 0.9452078825799661\n",
      "F-score : 0.8930487387284557\n",
      "\n",
      "Confusion matrix for label Subarachnoid:\n"
     ]
    },
    {
     "data": {
      "image/png": "[encoded data removed]",
      "text/plain": [
       "<Figure size 216x216 with 1 Axes>"
      ]
     },
     "metadata": {
      "needs_background": "light"
     },
     "output_type": "display_data"
    },
    {
     "name": "stdout",
     "output_type": "stream",
     "text": [
      "Metrics for label : Subarachnoid\n",
      "\n",
      "Sensitivity-Recall : 0.8450256229015727\n",
      "Precision - PPV : 0.796469020652898\n",
      "Accuracy : 0.877258639845623\n",
      "F-score : 0.8200291520192059\n",
      "\n",
      "Confusion matrix for label Subdural:\n"
     ]
    },
    {
     "data": {
      "image/png": "[encoded data removed]",
      "text/plain": [
       "<Figure size 216x216 with 1 Axes>"
      ]
     },
     "metadata": {
      "needs_background": "light"
     },
     "output_type": "display_data"
    },
    {
     "name": "stdout",
     "output_type": "stream",
     "text": [
      "Metrics for label : Subdural\n",
      "\n",
      "Sensitivity-Recall : 0.896837047911384\n",
      "Precision - PPV : 0.9003215434083601\n",
      "Accuracy : 0.9112917373253027\n",
      "F-score : 0.8985759176305409\n",
      "\n",
      "Metrics for Model\n",
      "\n",
      "Sensitivity-Recall : 0.8923941044807635\n",
      "Precision - PPV : 0.8515414064074148\n",
      "Accuracy : 0.9271153733699784\n",
      "F-score : 0.8714892564028539\n"
     ]
    }
   ],
   "source": [
    "predicted_vals = final_pred\n",
    "\n",
    "from sklearn.metrics import multilabel_confusion_matrix\n",
    "from sklearn.metrics import confusion_matrix\n",
    "from mlxtend.plotting import plot_confusion_matrix\n",
    "\n",
    "TP_all =0\n",
    "TN_all =0\n",
    "FP_all =0\n",
    "FN_all =0\n",
    "\n",
    "conf_mat_dict={}\n",
    "\n",
    "for i in range(len(labels)):\n",
    "    gt = test_generator.labels[:, i]\n",
    "    pred = predicted_vals[:, i]\n",
    "    pred = np.rint(pred)\n",
    "    conf_mat_dict[labels[i]] = confusion_matrix(y_pred=pred, y_true=gt)\n",
    "    \n",
    "for label, matrix in conf_mat_dict.items():\n",
    "    print(\"Confusion matrix for label {}:\".format(label))\n",
    "    plot_confusion_matrix(matrix,figsize=(3,3))\n",
    "    plt.xlabel('Predicted label')\n",
    "    plt.ylabel('True label')\n",
    "    plt.show()\n",
    "    \n",
    "    TN = matrix[0][0]\n",
    "    FN = matrix[1][0]\n",
    "    TP = matrix[1][1]\n",
    "    FP = matrix[0][1]\n",
    "    \n",
    "    print(\"Metrics for label : {}\".format(label))\n",
    "    print(\"\")\n",
    "    \n",
    "    # Sensitivity, hit rate, recall, or true positive rate\n",
    "    TPR = TP/(TP+FN)\n",
    "    print(\"Sensitivity-Recall : {}\".format(TPR))\n",
    "    \n",
    "    # Precision or positive predictive value\n",
    "    PPV = TP/(TP+FP)\n",
    "    print(\"Precision - PPV : {}\".format(PPV))\n",
    "    \n",
    "    # Overall accuracy\n",
    "    ACC = (TP+TN)/(TP+FP+FN+TN)\n",
    "    print(\"Accuracy : {}\".format(ACC))\n",
    "    \n",
    "    #F-score\n",
    "    F_score = (2*PPV*TPR)/(PPV+TPR)\n",
    "    print(\"F-score : {}\".format(F_score))\n",
    "    print(\"\")\n",
    "    \n",
    "    TP_all = TP_all + TP\n",
    "    TN_all = TN_all + TN\n",
    "    FP_all = FP_all + FP\n",
    "    FN_all = FN_all + FN\n",
    "    \n",
    "print(\"Metrics for Model\")\n",
    "print(\"\")\n",
    "    \n",
    "# Sensitivity, hit rate, recall, or true positive rate\n",
    "TPR = TP_all/(TP_all+FN_all)\n",
    "print(\"Sensitivity-Recall : {}\".format(TPR))\n",
    "    \n",
    "# Precision or positive predictive value\n",
    "PPV = TP_all/(TP_all+FP_all)\n",
    "print(\"Precision - PPV : {}\".format(PPV))\n",
    "    \n",
    "# Overall accuracy\n",
    "ACC = (TP_all+TN_all)/(TP_all+FP_all+FN_all+TN_all)\n",
    "print(\"Accuracy : {}\".format(ACC))\n",
    "    \n",
    "#F-score\n",
    "F_score = (2*PPV*TPR)/(PPV+TPR)\n",
    "print(\"F-score : {}\".format(F_score))"
   ]
  },
  {
   "cell_type": "code",
   "execution_count": null,
   "metadata": {},
   "outputs": [],
   "source": []
  }
 ],
 "metadata": {
  "kernelspec": {
   "display_name": "Python 3",
   "language": "python",
   "name": "python3"
  },
  "language_info": {
   "codemirror_mode": {
    "name": "ipython",
    "version": 3
   },
   "file_extension": ".py",
   "mimetype": "text/x-python",
   "name": "python",
   "nbconvert_exporter": "python",
   "pygments_lexer": "ipython3",
   "version": "3.7.9"
  }
 },
 "nbformat": 4,
 "nbformat_minor": 4
}
